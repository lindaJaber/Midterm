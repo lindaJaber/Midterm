{
 "cells": [
  {
   "cell_type": "code",
   "execution_count": 30,
   "metadata": {},
   "outputs": [
    {
     "name": "stdout",
     "output_type": "stream",
     "text": [
      "Populating the interactive namespace from numpy and matplotlib\n"
     ]
    },
    {
     "name": "stderr",
     "output_type": "stream",
     "text": [
      "/usr/local/Anaconda3-5.0.0-Linux-x86_64/envs/PUI2016_Python3/lib/python3.5/site-packages/IPython/core/magics/pylab.py:161: UserWarning: pylab import has clobbered these variables: ['f']\n",
      "`%matplotlib` prevents importing * from pylab and numpy\n",
      "  \"\\n`%matplotlib` prevents importing * from pylab and numpy\"\n"
     ]
    }
   ],
   "source": [
    "__author__ = 'Linda Jaber, CUSP NYU 2018'\n",
    "from __future__ import print_function\n",
    "\n",
    "import sys\n",
    "import os\n",
    "try:\n",
    "    import urllib2 as urllib\n",
    "except ImportError:\n",
    "    import urllib.request as urllib\n",
    "import pandas as pd\n",
    "import geopandas as gpd\n",
    "\n",
    "import matplotlib.pyplot as plt\n",
    "%pylab inline\n",
    "\n",
    "\n",
    "import requests\n",
    "import json\n",
    "import io\n",
    "\n",
    "import shapely\n",
    "from fiona.crs import from_epsg\n",
    "import pysal as ps\n",
    "\n",
    "\n",
    "import scipy as sp\n",
    "from scipy import stats\n",
    "\n",
    "pylab.rcParams['figure.figsize'] = 12, 8\n",
    "pylab.rcParams['figure.dpi'] = 100\n"
   ]
  },
  {
   "cell_type": "code",
   "execution_count": 2,
   "metadata": {},
   "outputs": [
    {
     "name": "stdout",
     "output_type": "stream",
     "text": [
      "puidata:  /nfshome/lj1232/PUIdata\n"
     ]
    }
   ],
   "source": [
    "# setting puidata as the path i want to downlaod my data to\n",
    "puidata = os.getenv('PUIDATA')\n",
    "if puidata is None:\n",
    "    os.environ['PUIDATA']='%s/PUIdata'%os.getenv('HOME')\n",
    "    puidata = os.getenv('PUIDATA')\n",
    "print('puidata: ', puidata) "
   ]
  },
  {
   "cell_type": "code",
   "execution_count": 3,
   "metadata": {},
   "outputs": [
    {
     "name": "stdout",
     "output_type": "stream",
     "text": [
      "geo_export_f269d335-ea6a-4df7-a067-8360fc9496f6.dbf\n",
      "geo_export_f269d335-ea6a-4df7-a067-8360fc9496f6.prj\n",
      "geo_export_f269d335-ea6a-4df7-a067-8360fc9496f6.shp\n",
      "geo_export_f269d335-ea6a-4df7-a067-8360fc9496f6.shx\n"
     ]
    }
   ],
   "source": [
    "url = 'https://data.cityofnewyork.us/api/geospatial/fxpq-c8ku?method=export&format=Shapefile'\n",
    "#urllib.urlretrieve(url, 'file.gz')\n",
    "#!unzip file.gz -d $PUIDATA/2010_Census_Tracts_NYC_shapefile\n",
    "!ls $PUIDATA/2010_Census_Tracts_NYC_shapefile"
   ]
  },
  {
   "cell_type": "code",
   "execution_count": 4,
   "metadata": {},
   "outputs": [
    {
     "data": {
      "text/html": [
       "<div>\n",
       "<table border=\"1\" class=\"dataframe\">\n",
       "  <thead>\n",
       "    <tr style=\"text-align: right;\">\n",
       "      <th></th>\n",
       "      <th>boro_code</th>\n",
       "      <th>boro_ct201</th>\n",
       "      <th>boro_name</th>\n",
       "      <th>cdeligibil</th>\n",
       "      <th>ct2010</th>\n",
       "      <th>ctlabel</th>\n",
       "      <th>ntacode</th>\n",
       "      <th>ntaname</th>\n",
       "      <th>puma</th>\n",
       "      <th>shape_area</th>\n",
       "      <th>shape_leng</th>\n",
       "      <th>geometry</th>\n",
       "    </tr>\n",
       "  </thead>\n",
       "  <tbody>\n",
       "    <tr>\n",
       "      <th>0</th>\n",
       "      <td>5</td>\n",
       "      <td>5000900</td>\n",
       "      <td>Staten Island</td>\n",
       "      <td>I</td>\n",
       "      <td>000900</td>\n",
       "      <td>9</td>\n",
       "      <td>SI22</td>\n",
       "      <td>West New Brighton-New Brighton-St. George</td>\n",
       "      <td>3903</td>\n",
       "      <td>2.497010e+06</td>\n",
       "      <td>7729.016794</td>\n",
       "      <td>POLYGON ((-74.07920577013245 40.64343078374567...</td>\n",
       "    </tr>\n",
       "    <tr>\n",
       "      <th>1</th>\n",
       "      <td>1</td>\n",
       "      <td>1009800</td>\n",
       "      <td>Manhattan</td>\n",
       "      <td>I</td>\n",
       "      <td>009800</td>\n",
       "      <td>98</td>\n",
       "      <td>MN19</td>\n",
       "      <td>Turtle Bay-East Midtown</td>\n",
       "      <td>3808</td>\n",
       "      <td>1.906016e+06</td>\n",
       "      <td>5534.199811</td>\n",
       "      <td>POLYGON ((-73.96432543478758 40.75638153099091...</td>\n",
       "    </tr>\n",
       "    <tr>\n",
       "      <th>2</th>\n",
       "      <td>1</td>\n",
       "      <td>1010000</td>\n",
       "      <td>Manhattan</td>\n",
       "      <td>I</td>\n",
       "      <td>010000</td>\n",
       "      <td>100</td>\n",
       "      <td>MN19</td>\n",
       "      <td>Turtle Bay-East Midtown</td>\n",
       "      <td>3808</td>\n",
       "      <td>1.860938e+06</td>\n",
       "      <td>5692.168737</td>\n",
       "      <td>POLYGON ((-73.96802436915851 40.75957814005282...</td>\n",
       "    </tr>\n",
       "    <tr>\n",
       "      <th>3</th>\n",
       "      <td>1</td>\n",
       "      <td>1010200</td>\n",
       "      <td>Manhattan</td>\n",
       "      <td>I</td>\n",
       "      <td>010200</td>\n",
       "      <td>102</td>\n",
       "      <td>MN17</td>\n",
       "      <td>Midtown-Midtown South</td>\n",
       "      <td>3807</td>\n",
       "      <td>1.860993e+06</td>\n",
       "      <td>5687.802439</td>\n",
       "      <td>POLYGON ((-73.97124277307127 40.76093641847906...</td>\n",
       "    </tr>\n",
       "    <tr>\n",
       "      <th>4</th>\n",
       "      <td>1</td>\n",
       "      <td>1010400</td>\n",
       "      <td>Manhattan</td>\n",
       "      <td>I</td>\n",
       "      <td>010400</td>\n",
       "      <td>104</td>\n",
       "      <td>MN17</td>\n",
       "      <td>Midtown-Midtown South</td>\n",
       "      <td>3807</td>\n",
       "      <td>1.864600e+06</td>\n",
       "      <td>5693.036367</td>\n",
       "      <td>POLYGON ((-73.97445730550224 40.76229308352487...</td>\n",
       "    </tr>\n",
       "  </tbody>\n",
       "</table>\n",
       "</div>"
      ],
      "text/plain": [
       "  boro_code boro_ct201      boro_name cdeligibil  ct2010 ctlabel ntacode  \\\n",
       "0         5    5000900  Staten Island          I  000900       9    SI22   \n",
       "1         1    1009800      Manhattan          I  009800      98    MN19   \n",
       "2         1    1010000      Manhattan          I  010000     100    MN19   \n",
       "3         1    1010200      Manhattan          I  010200     102    MN17   \n",
       "4         1    1010400      Manhattan          I  010400     104    MN17   \n",
       "\n",
       "                                     ntaname  puma    shape_area   shape_leng  \\\n",
       "0  West New Brighton-New Brighton-St. George  3903  2.497010e+06  7729.016794   \n",
       "1                    Turtle Bay-East Midtown  3808  1.906016e+06  5534.199811   \n",
       "2                    Turtle Bay-East Midtown  3808  1.860938e+06  5692.168737   \n",
       "3                      Midtown-Midtown South  3807  1.860993e+06  5687.802439   \n",
       "4                      Midtown-Midtown South  3807  1.864600e+06  5693.036367   \n",
       "\n",
       "                                            geometry  \n",
       "0  POLYGON ((-74.07920577013245 40.64343078374567...  \n",
       "1  POLYGON ((-73.96432543478758 40.75638153099091...  \n",
       "2  POLYGON ((-73.96802436915851 40.75957814005282...  \n",
       "3  POLYGON ((-73.97124277307127 40.76093641847906...  \n",
       "4  POLYGON ((-73.97445730550224 40.76229308352487...  "
      ]
     },
     "execution_count": 4,
     "metadata": {},
     "output_type": "execute_result"
    }
   ],
   "source": [
    "# read census tract shapefile as a geo dataframe\n",
    "ct = gpd.GeoDataFrame.from_file(puidata + '/2010_Census_Tracts_NYC_shapefile/geo_export_f269d335-ea6a-4df7-a067-8360fc9496f6.shp')\n",
    "ct.head()"
   ]
  },
  {
   "cell_type": "code",
   "execution_count": 5,
   "metadata": {},
   "outputs": [
    {
     "data": {
      "text/plain": [
       "Index(['boro_code', 'boro_ct201', 'boro_name', 'cdeligibil', 'ct2010',\n",
       "       'ctlabel', 'ntacode', 'ntaname', 'puma', 'shape_area', 'shape_leng',\n",
       "       'geometry'],\n",
       "      dtype='object')"
      ]
     },
     "execution_count": 5,
     "metadata": {},
     "output_type": "execute_result"
    }
   ],
   "source": [
    "ct.columns"
   ]
  },
  {
   "cell_type": "code",
   "execution_count": 6,
   "metadata": {},
   "outputs": [],
   "source": [
    "ct.boro_code = ct.boro_code.astype(int)"
   ]
  },
  {
   "cell_type": "code",
   "execution_count": 7,
   "metadata": {},
   "outputs": [],
   "source": [
    "man = ct[ct['boro_code'] == 1]"
   ]
  },
  {
   "cell_type": "code",
   "execution_count": 8,
   "metadata": {},
   "outputs": [
    {
     "data": {
      "image/png": "[encoded data removed]",
      "text/plain": [
       "<matplotlib.figure.Figure at 0x7fe0e688fba8>"
      ]
     },
     "metadata": {},
     "output_type": "display_data"
    }
   ],
   "source": [
    "f, ax = plt.subplots()\n",
    "\n",
    "ax = man.plot(ax=ax)\n",
    "ax.axes.set_aspect('equal','datalim') #auto or equal"
   ]
  },
  {
   "cell_type": "code",
   "execution_count": 9,
   "metadata": {},
   "outputs": [
    {
     "data": {
      "text/plain": [
       "{'init': 'epsg:4326'}"
      ]
     },
     "execution_count": 9,
     "metadata": {},
     "output_type": "execute_result"
    }
   ],
   "source": [
    "ct.crs"
   ]
  },
  {
   "cell_type": "code",
   "execution_count": 10,
   "metadata": {},
   "outputs": [
    {
     "data": {
      "text/plain": [
       "{'init': 'epsg:4326'}"
      ]
     },
     "execution_count": 10,
     "metadata": {},
     "output_type": "execute_result"
    }
   ],
   "source": [
    "man.crs"
   ]
  },
  {
   "cell_type": "code",
   "execution_count": 11,
   "metadata": {},
   "outputs": [
    {
     "data": {
      "text/plain": [
       "\u001b[0;31mSignature:\u001b[0m \u001b[0max\u001b[0m\u001b[0;34m.\u001b[0m\u001b[0maxes\u001b[0m\u001b[0;34m.\u001b[0m\u001b[0mset_aspect\u001b[0m\u001b[0;34m(\u001b[0m\u001b[0maspect\u001b[0m\u001b[0;34m,\u001b[0m \u001b[0madjustable\u001b[0m\u001b[0;34m=\u001b[0m\u001b[0;32mNone\u001b[0m\u001b[0;34m,\u001b[0m \u001b[0manchor\u001b[0m\u001b[0;34m=\u001b[0m\u001b[0;32mNone\u001b[0m\u001b[0;34m)\u001b[0m\u001b[0;34m\u001b[0m\u001b[0m\n",
       "\u001b[0;31mDocstring:\u001b[0m\n",
       "*aspect*\n",
       "\n",
       "  ========   ================================================\n",
       "  value      description\n",
       "  ========   ================================================\n",
       "  'auto'     automatic; fill position rectangle with data\n",
       "  'equal'    same scaling from data to plot units for x and y\n",
       "   num       a circle will be stretched such that the height\n",
       "             is num times the width. aspect=1 is the same as\n",
       "             aspect='equal'.\n",
       "  ========   ================================================\n",
       "\n",
       "*adjustable*\n",
       "\n",
       "  ============   =====================================\n",
       "  value          description\n",
       "  ============   =====================================\n",
       "  'box'          change physical size of axes\n",
       "  'datalim'      change xlim or ylim\n",
       "  'box-forced'   same as 'box', but axes can be shared\n",
       "  ============   =====================================\n",
       "\n",
       "'box' does not allow axes sharing, as this can cause\n",
       "unintended side effect. For cases when sharing axes is\n",
       "fine, use 'box-forced'.\n",
       "\n",
       "*anchor*\n",
       "\n",
       "  =====   =====================\n",
       "  value   description\n",
       "  =====   =====================\n",
       "  'C'     centered\n",
       "  'SW'    lower left corner\n",
       "  'S'     middle of bottom edge\n",
       "  'SE'    lower right corner\n",
       "  etc.\n",
       "  =====   =====================\n",
       "\u001b[0;31mFile:\u001b[0m      /usr/local/Anaconda3-5.0.0-Linux-x86_64/envs/PUI2016_Python3/lib/python3.5/site-packages/matplotlib/axes/_base.py\n",
       "\u001b[0;31mType:\u001b[0m      method\n"
      ]
     },
     "metadata": {},
     "output_type": "display_data"
    }
   ],
   "source": [
    "ax.axes.set_aspect?"
   ]
  },
  {
   "cell_type": "code",
   "execution_count": 12,
   "metadata": {},
   "outputs": [
    {
     "data": {
      "text/html": [
       "<div>\n",
       "<table border=\"1\" class=\"dataframe\">\n",
       "  <thead>\n",
       "    <tr style=\"text-align: right;\">\n",
       "      <th></th>\n",
       "      <th>boro_code</th>\n",
       "      <th>boro_ct201</th>\n",
       "      <th>boro_name</th>\n",
       "      <th>cdeligibil</th>\n",
       "      <th>ct2010</th>\n",
       "      <th>ctlabel</th>\n",
       "      <th>ntacode</th>\n",
       "      <th>ntaname</th>\n",
       "      <th>puma</th>\n",
       "      <th>shape_area</th>\n",
       "      <th>shape_leng</th>\n",
       "      <th>geometry</th>\n",
       "    </tr>\n",
       "  </thead>\n",
       "  <tbody>\n",
       "    <tr>\n",
       "      <th>1</th>\n",
       "      <td>1</td>\n",
       "      <td>1009800</td>\n",
       "      <td>Manhattan</td>\n",
       "      <td>I</td>\n",
       "      <td>009800</td>\n",
       "      <td>98</td>\n",
       "      <td>MN19</td>\n",
       "      <td>Turtle Bay-East Midtown</td>\n",
       "      <td>3808</td>\n",
       "      <td>1.906016e+06</td>\n",
       "      <td>5534.199811</td>\n",
       "      <td>POLYGON ((-73.96432543478758 40.75638153099091...</td>\n",
       "    </tr>\n",
       "    <tr>\n",
       "      <th>2</th>\n",
       "      <td>1</td>\n",
       "      <td>1010000</td>\n",
       "      <td>Manhattan</td>\n",
       "      <td>I</td>\n",
       "      <td>010000</td>\n",
       "      <td>100</td>\n",
       "      <td>MN19</td>\n",
       "      <td>Turtle Bay-East Midtown</td>\n",
       "      <td>3808</td>\n",
       "      <td>1.860938e+06</td>\n",
       "      <td>5692.168737</td>\n",
       "      <td>POLYGON ((-73.96802436915851 40.75957814005282...</td>\n",
       "    </tr>\n",
       "    <tr>\n",
       "      <th>3</th>\n",
       "      <td>1</td>\n",
       "      <td>1010200</td>\n",
       "      <td>Manhattan</td>\n",
       "      <td>I</td>\n",
       "      <td>010200</td>\n",
       "      <td>102</td>\n",
       "      <td>MN17</td>\n",
       "      <td>Midtown-Midtown South</td>\n",
       "      <td>3807</td>\n",
       "      <td>1.860993e+06</td>\n",
       "      <td>5687.802439</td>\n",
       "      <td>POLYGON ((-73.97124277307127 40.76093641847906...</td>\n",
       "    </tr>\n",
       "    <tr>\n",
       "      <th>4</th>\n",
       "      <td>1</td>\n",
       "      <td>1010400</td>\n",
       "      <td>Manhattan</td>\n",
       "      <td>I</td>\n",
       "      <td>010400</td>\n",
       "      <td>104</td>\n",
       "      <td>MN17</td>\n",
       "      <td>Midtown-Midtown South</td>\n",
       "      <td>3807</td>\n",
       "      <td>1.864600e+06</td>\n",
       "      <td>5693.036367</td>\n",
       "      <td>POLYGON ((-73.97445730550224 40.76229308352487...</td>\n",
       "    </tr>\n",
       "    <tr>\n",
       "      <th>5</th>\n",
       "      <td>1</td>\n",
       "      <td>1011300</td>\n",
       "      <td>Manhattan</td>\n",
       "      <td>I</td>\n",
       "      <td>011300</td>\n",
       "      <td>113</td>\n",
       "      <td>MN17</td>\n",
       "      <td>Midtown-Midtown South</td>\n",
       "      <td>3807</td>\n",
       "      <td>1.890907e+06</td>\n",
       "      <td>5699.860641</td>\n",
       "      <td>POLYGON ((-73.98411754823195 40.7548420534646,...</td>\n",
       "    </tr>\n",
       "  </tbody>\n",
       "</table>\n",
       "</div>"
      ],
      "text/plain": [
       "   boro_code boro_ct201  boro_name cdeligibil  ct2010 ctlabel ntacode  \\\n",
       "1          1    1009800  Manhattan          I  009800      98    MN19   \n",
       "2          1    1010000  Manhattan          I  010000     100    MN19   \n",
       "3          1    1010200  Manhattan          I  010200     102    MN17   \n",
       "4          1    1010400  Manhattan          I  010400     104    MN17   \n",
       "5          1    1011300  Manhattan          I  011300     113    MN17   \n",
       "\n",
       "                   ntaname  puma    shape_area   shape_leng  \\\n",
       "1  Turtle Bay-East Midtown  3808  1.906016e+06  5534.199811   \n",
       "2  Turtle Bay-East Midtown  3808  1.860938e+06  5692.168737   \n",
       "3    Midtown-Midtown South  3807  1.860993e+06  5687.802439   \n",
       "4    Midtown-Midtown South  3807  1.864600e+06  5693.036367   \n",
       "5    Midtown-Midtown South  3807  1.890907e+06  5699.860641   \n",
       "\n",
       "                                            geometry  \n",
       "1  POLYGON ((-73.96432543478758 40.75638153099091...  \n",
       "2  POLYGON ((-73.96802436915851 40.75957814005282...  \n",
       "3  POLYGON ((-73.97124277307127 40.76093641847906...  \n",
       "4  POLYGON ((-73.97445730550224 40.76229308352487...  \n",
       "5  POLYGON ((-73.98411754823195 40.7548420534646,...  "
      ]
     },
     "execution_count": 12,
     "metadata": {},
     "output_type": "execute_result"
    }
   ],
   "source": [
    "man.head()"
   ]
  },
  {
   "cell_type": "code",
   "execution_count": 13,
   "metadata": {},
   "outputs": [
    {
     "data": {
      "text/plain": [
       "288"
      ]
     },
     "execution_count": 13,
     "metadata": {},
     "output_type": "execute_result"
    }
   ],
   "source": [
    "len(man)"
   ]
  },
  {
   "cell_type": "code",
   "execution_count": 14,
   "metadata": {},
   "outputs": [
    {
     "data": {
      "text/plain": [
       "2166"
      ]
     },
     "execution_count": 14,
     "metadata": {},
     "output_type": "execute_result"
    }
   ],
   "source": [
    "len(ct)"
   ]
  },
  {
   "cell_type": "code",
   "execution_count": 15,
   "metadata": {},
   "outputs": [
    {
     "data": {
      "text/plain": [
       "{'init': 'epsg:2263', 'no_defs': True}"
      ]
     },
     "execution_count": 15,
     "metadata": {},
     "output_type": "execute_result"
    }
   ],
   "source": [
    "# Spatial joins operate on objects with eastings and northings\n",
    "man_ft = man.to_crs(epsg = 2263)\n",
    "man_ft.crs"
   ]
  },
  {
   "cell_type": "code",
   "execution_count": 20,
   "metadata": {},
   "outputs": [
    {
     "name": "stdout",
     "output_type": "stream",
     "text": [
      "2010_Census_Tracts_NYC_shapefile\n",
      "201501-citibike-tripdata.csv\n",
      "201501-citibike-tripdata.zip\n",
      "201506-citibike-tripdata.csv\n",
      "201506-citibike-tripdata.zip\n",
      "201705-citibike-tripdata.csv.zip\n",
      "201803_citibike_tripdata.csv.zip\n",
      "311_Service_Requests_from_2010_to_Present_head.csv\n",
      "311_Service_Requests_from_2010_to_Present_short.csv\n",
      "ACS_16_1YR_GCT2801\n",
      "dhsdaily.csv\n",
      "DOB_Complaints_311.csv\n",
      "JC-201705-citibike-tripdata.csv\n",
      "JC-201803-citibike-tripdata.csv\n",
      "linkNYClocations.csv\n",
      "NYPD_7_Major_Felony_Incidents.csv\n",
      "PLUTO_for_WEB\n",
      "PUMA_NYC_shapefile\n",
      "times.txt\n"
     ]
    }
   ],
   "source": [
    "# downloading a zipped file\n",
    "#!curl -O https://s3.amazonaws.com/tripdata/201501-citibike-tripdata.zip \n",
    "# unpacking into $PUIDATA\n",
    "#!unzip 201501-citibike-tripdata.zip -d $PUIDATA\n",
    "!ls $PUIDATA"
   ]
  },
  {
   "cell_type": "code",
   "execution_count": 22,
   "metadata": {},
   "outputs": [
    {
     "data": {
      "text/html": [
       "<div>\n",
       "<table border=\"1\" class=\"dataframe\">\n",
       "  <thead>\n",
       "    <tr style=\"text-align: right;\">\n",
       "      <th></th>\n",
       "      <th>tripduration</th>\n",
       "      <th>starttime</th>\n",
       "      <th>stoptime</th>\n",
       "      <th>start station id</th>\n",
       "      <th>start station name</th>\n",
       "      <th>start station latitude</th>\n",
       "      <th>start station longitude</th>\n",
       "      <th>end station id</th>\n",
       "      <th>end station name</th>\n",
       "      <th>end station latitude</th>\n",
       "      <th>end station longitude</th>\n",
       "      <th>bikeid</th>\n",
       "      <th>usertype</th>\n",
       "      <th>birth year</th>\n",
       "      <th>gender</th>\n",
       "    </tr>\n",
       "  </thead>\n",
       "  <tbody>\n",
       "    <tr>\n",
       "      <th>0</th>\n",
       "      <td>1346</td>\n",
       "      <td>1/1/2015 0:01</td>\n",
       "      <td>1/1/2015 0:24</td>\n",
       "      <td>455</td>\n",
       "      <td>1 Ave &amp; E 44 St</td>\n",
       "      <td>40.750020</td>\n",
       "      <td>-73.969053</td>\n",
       "      <td>265</td>\n",
       "      <td>Stanton St &amp; Chrystie St</td>\n",
       "      <td>40.722293</td>\n",
       "      <td>-73.991475</td>\n",
       "      <td>18660</td>\n",
       "      <td>Subscriber</td>\n",
       "      <td>1960.0</td>\n",
       "      <td>2</td>\n",
       "    </tr>\n",
       "    <tr>\n",
       "      <th>1</th>\n",
       "      <td>363</td>\n",
       "      <td>1/1/2015 0:02</td>\n",
       "      <td>1/1/2015 0:08</td>\n",
       "      <td>434</td>\n",
       "      <td>9 Ave &amp; W 18 St</td>\n",
       "      <td>40.743174</td>\n",
       "      <td>-74.003664</td>\n",
       "      <td>482</td>\n",
       "      <td>W 15 St &amp; 7 Ave</td>\n",
       "      <td>40.739355</td>\n",
       "      <td>-73.999318</td>\n",
       "      <td>16085</td>\n",
       "      <td>Subscriber</td>\n",
       "      <td>1963.0</td>\n",
       "      <td>1</td>\n",
       "    </tr>\n",
       "    <tr>\n",
       "      <th>2</th>\n",
       "      <td>346</td>\n",
       "      <td>1/1/2015 0:04</td>\n",
       "      <td>1/1/2015 0:10</td>\n",
       "      <td>491</td>\n",
       "      <td>E 24 St &amp; Park Ave S</td>\n",
       "      <td>40.740964</td>\n",
       "      <td>-73.986022</td>\n",
       "      <td>505</td>\n",
       "      <td>6 Ave &amp; W 33 St</td>\n",
       "      <td>40.749013</td>\n",
       "      <td>-73.988484</td>\n",
       "      <td>20845</td>\n",
       "      <td>Subscriber</td>\n",
       "      <td>1974.0</td>\n",
       "      <td>1</td>\n",
       "    </tr>\n",
       "    <tr>\n",
       "      <th>3</th>\n",
       "      <td>182</td>\n",
       "      <td>1/1/2015 0:04</td>\n",
       "      <td>1/1/2015 0:07</td>\n",
       "      <td>384</td>\n",
       "      <td>Fulton St &amp; Waverly Ave</td>\n",
       "      <td>40.683178</td>\n",
       "      <td>-73.965964</td>\n",
       "      <td>399</td>\n",
       "      <td>Lafayette Ave &amp; St James Pl</td>\n",
       "      <td>40.688515</td>\n",
       "      <td>-73.964763</td>\n",
       "      <td>19610</td>\n",
       "      <td>Subscriber</td>\n",
       "      <td>1969.0</td>\n",
       "      <td>1</td>\n",
       "    </tr>\n",
       "    <tr>\n",
       "      <th>4</th>\n",
       "      <td>969</td>\n",
       "      <td>1/1/2015 0:05</td>\n",
       "      <td>1/1/2015 0:21</td>\n",
       "      <td>474</td>\n",
       "      <td>5 Ave &amp; E 29 St</td>\n",
       "      <td>40.745168</td>\n",
       "      <td>-73.986831</td>\n",
       "      <td>432</td>\n",
       "      <td>E 7 St &amp; Avenue A</td>\n",
       "      <td>40.726218</td>\n",
       "      <td>-73.983799</td>\n",
       "      <td>20197</td>\n",
       "      <td>Subscriber</td>\n",
       "      <td>1977.0</td>\n",
       "      <td>1</td>\n",
       "    </tr>\n",
       "  </tbody>\n",
       "</table>\n",
       "</div>"
      ],
      "text/plain": [
       "   tripduration      starttime       stoptime  start station id  \\\n",
       "0          1346  1/1/2015 0:01  1/1/2015 0:24               455   \n",
       "1           363  1/1/2015 0:02  1/1/2015 0:08               434   \n",
       "2           346  1/1/2015 0:04  1/1/2015 0:10               491   \n",
       "3           182  1/1/2015 0:04  1/1/2015 0:07               384   \n",
       "4           969  1/1/2015 0:05  1/1/2015 0:21               474   \n",
       "\n",
       "        start station name  start station latitude  start station longitude  \\\n",
       "0          1 Ave & E 44 St               40.750020               -73.969053   \n",
       "1          9 Ave & W 18 St               40.743174               -74.003664   \n",
       "2     E 24 St & Park Ave S               40.740964               -73.986022   \n",
       "3  Fulton St & Waverly Ave               40.683178               -73.965964   \n",
       "4          5 Ave & E 29 St               40.745168               -73.986831   \n",
       "\n",
       "   end station id             end station name  end station latitude  \\\n",
       "0             265     Stanton St & Chrystie St             40.722293   \n",
       "1             482              W 15 St & 7 Ave             40.739355   \n",
       "2             505              6 Ave & W 33 St             40.749013   \n",
       "3             399  Lafayette Ave & St James Pl             40.688515   \n",
       "4             432            E 7 St & Avenue A             40.726218   \n",
       "\n",
       "   end station longitude  bikeid    usertype  birth year  gender  \n",
       "0             -73.991475   18660  Subscriber      1960.0       2  \n",
       "1             -73.999318   16085  Subscriber      1963.0       1  \n",
       "2             -73.988484   20845  Subscriber      1974.0       1  \n",
       "3             -73.964763   19610  Subscriber      1969.0       1  \n",
       "4             -73.983799   20197  Subscriber      1977.0       1  "
      ]
     },
     "execution_count": 22,
     "metadata": {},
     "output_type": "execute_result"
    }
   ],
   "source": [
    "cb201501 = pd.read_csv(puidata + '/201501-citibike-tripdata.zip')\n",
    "cb201501.head()"
   ]
  },
  {
   "cell_type": "code",
   "execution_count": 23,
   "metadata": {},
   "outputs": [],
   "source": [
    "# subsetting the data taking one row every 1000 rows\n",
    "DEVELOPING = True\n",
    "if DEVELOPING:\n",
    "    cb2015 = cb201501[::1000]\n",
    "else:\n",
    "    cb2015 = pd.concat([cb201501, cb201506])"
   ]
  },
  {
   "cell_type": "code",
   "execution_count": 24,
   "metadata": {},
   "outputs": [
    {
     "data": {
      "text/plain": [
       "(286, 15)"
      ]
     },
     "execution_count": 24,
     "metadata": {},
     "output_type": "execute_result"
    }
   ],
   "source": [
    "cb2015.shape"
   ]
  },
  {
   "cell_type": "code",
   "execution_count": 25,
   "metadata": {},
   "outputs": [
    {
     "data": {
      "text/plain": [
       "(285552, 15)"
      ]
     },
     "execution_count": 25,
     "metadata": {},
     "output_type": "execute_result"
    }
   ],
   "source": [
    "cb201501.shape"
   ]
  },
  {
   "cell_type": "code",
   "execution_count": 27,
   "metadata": {},
   "outputs": [
    {
     "name": "stderr",
     "output_type": "stream",
     "text": [
      "/usr/local/Anaconda3-5.0.0-Linux-x86_64/envs/PUI2016_Python3/lib/python3.5/site-packages/ipykernel/__main__.py:2: SettingWithCopyWarning: \n",
      "A value is trying to be set on a copy of a slice from a DataFrame.\n",
      "Try using .loc[row_indexer,col_indexer] = value instead\n",
      "\n",
      "See the caveats in the documentation: http://pandas.pydata.org/pandas-docs/stable/indexing.html#indexing-view-versus-copy\n",
      "  from ipykernel import kernelapp as app\n"
     ]
    },
    {
     "data": {
      "text/html": [
       "<div>\n",
       "<table border=\"1\" class=\"dataframe\">\n",
       "  <thead>\n",
       "    <tr style=\"text-align: right;\">\n",
       "      <th></th>\n",
       "      <th>tripduration</th>\n",
       "      <th>starttime</th>\n",
       "      <th>stoptime</th>\n",
       "      <th>start station id</th>\n",
       "      <th>start station name</th>\n",
       "      <th>start station latitude</th>\n",
       "      <th>start station longitude</th>\n",
       "      <th>end station id</th>\n",
       "      <th>end station name</th>\n",
       "      <th>end station latitude</th>\n",
       "      <th>end station longitude</th>\n",
       "      <th>bikeid</th>\n",
       "      <th>usertype</th>\n",
       "      <th>birth year</th>\n",
       "      <th>gender</th>\n",
       "      <th>date</th>\n",
       "    </tr>\n",
       "  </thead>\n",
       "  <tbody>\n",
       "    <tr>\n",
       "      <th>0</th>\n",
       "      <td>1346</td>\n",
       "      <td>1/1/2015 0:01</td>\n",
       "      <td>1/1/2015 0:24</td>\n",
       "      <td>455</td>\n",
       "      <td>1 Ave &amp; E 44 St</td>\n",
       "      <td>40.750020</td>\n",
       "      <td>-73.969053</td>\n",
       "      <td>265</td>\n",
       "      <td>Stanton St &amp; Chrystie St</td>\n",
       "      <td>40.722293</td>\n",
       "      <td>-73.991475</td>\n",
       "      <td>18660</td>\n",
       "      <td>Subscriber</td>\n",
       "      <td>1960.0</td>\n",
       "      <td>2</td>\n",
       "      <td>2015-01-01 00:01:00</td>\n",
       "    </tr>\n",
       "    <tr>\n",
       "      <th>1000</th>\n",
       "      <td>581</td>\n",
       "      <td>1/1/2015 10:46</td>\n",
       "      <td>1/1/2015 10:56</td>\n",
       "      <td>466</td>\n",
       "      <td>W 25 St &amp; 6 Ave</td>\n",
       "      <td>40.743954</td>\n",
       "      <td>-73.991449</td>\n",
       "      <td>375</td>\n",
       "      <td>Mercer St &amp; Bleecker St</td>\n",
       "      <td>40.726795</td>\n",
       "      <td>-73.996951</td>\n",
       "      <td>15552</td>\n",
       "      <td>Subscriber</td>\n",
       "      <td>1984.0</td>\n",
       "      <td>1</td>\n",
       "      <td>2015-01-01 10:46:00</td>\n",
       "    </tr>\n",
       "    <tr>\n",
       "      <th>2000</th>\n",
       "      <td>727</td>\n",
       "      <td>1/1/2015 13:39</td>\n",
       "      <td>1/1/2015 13:51</td>\n",
       "      <td>312</td>\n",
       "      <td>Allen St &amp; E Houston St</td>\n",
       "      <td>40.722055</td>\n",
       "      <td>-73.989111</td>\n",
       "      <td>428</td>\n",
       "      <td>E 3 St &amp; 1 Ave</td>\n",
       "      <td>40.724677</td>\n",
       "      <td>-73.987834</td>\n",
       "      <td>20781</td>\n",
       "      <td>Subscriber</td>\n",
       "      <td>1964.0</td>\n",
       "      <td>1</td>\n",
       "      <td>2015-01-01 13:39:00</td>\n",
       "    </tr>\n",
       "    <tr>\n",
       "      <th>3000</th>\n",
       "      <td>490</td>\n",
       "      <td>1/1/2015 15:48</td>\n",
       "      <td>1/1/2015 15:56</td>\n",
       "      <td>483</td>\n",
       "      <td>E 12 St &amp; 3 Ave</td>\n",
       "      <td>40.732233</td>\n",
       "      <td>-73.988900</td>\n",
       "      <td>482</td>\n",
       "      <td>W 15 St &amp; 7 Ave</td>\n",
       "      <td>40.739355</td>\n",
       "      <td>-73.999318</td>\n",
       "      <td>17606</td>\n",
       "      <td>Subscriber</td>\n",
       "      <td>1990.0</td>\n",
       "      <td>1</td>\n",
       "      <td>2015-01-01 15:48:00</td>\n",
       "    </tr>\n",
       "    <tr>\n",
       "      <th>4000</th>\n",
       "      <td>182</td>\n",
       "      <td>1/1/2015 17:51</td>\n",
       "      <td>1/1/2015 17:54</td>\n",
       "      <td>297</td>\n",
       "      <td>E 15 St &amp; 3 Ave</td>\n",
       "      <td>40.734232</td>\n",
       "      <td>-73.986923</td>\n",
       "      <td>2003</td>\n",
       "      <td>1 Ave &amp; E 18 St</td>\n",
       "      <td>40.734161</td>\n",
       "      <td>-73.980243</td>\n",
       "      <td>18978</td>\n",
       "      <td>Subscriber</td>\n",
       "      <td>1967.0</td>\n",
       "      <td>1</td>\n",
       "      <td>2015-01-01 17:51:00</td>\n",
       "    </tr>\n",
       "  </tbody>\n",
       "</table>\n",
       "</div>"
      ],
      "text/plain": [
       "      tripduration       starttime        stoptime  start station id  \\\n",
       "0             1346   1/1/2015 0:01   1/1/2015 0:24               455   \n",
       "1000           581  1/1/2015 10:46  1/1/2015 10:56               466   \n",
       "2000           727  1/1/2015 13:39  1/1/2015 13:51               312   \n",
       "3000           490  1/1/2015 15:48  1/1/2015 15:56               483   \n",
       "4000           182  1/1/2015 17:51  1/1/2015 17:54               297   \n",
       "\n",
       "           start station name  start station latitude  \\\n",
       "0             1 Ave & E 44 St               40.750020   \n",
       "1000          W 25 St & 6 Ave               40.743954   \n",
       "2000  Allen St & E Houston St               40.722055   \n",
       "3000          E 12 St & 3 Ave               40.732233   \n",
       "4000          E 15 St & 3 Ave               40.734232   \n",
       "\n",
       "      start station longitude  end station id          end station name  \\\n",
       "0                  -73.969053             265  Stanton St & Chrystie St   \n",
       "1000               -73.991449             375   Mercer St & Bleecker St   \n",
       "2000               -73.989111             428            E 3 St & 1 Ave   \n",
       "3000               -73.988900             482           W 15 St & 7 Ave   \n",
       "4000               -73.986923            2003           1 Ave & E 18 St   \n",
       "\n",
       "      end station latitude  end station longitude  bikeid    usertype  \\\n",
       "0                40.722293             -73.991475   18660  Subscriber   \n",
       "1000             40.726795             -73.996951   15552  Subscriber   \n",
       "2000             40.724677             -73.987834   20781  Subscriber   \n",
       "3000             40.739355             -73.999318   17606  Subscriber   \n",
       "4000             40.734161             -73.980243   18978  Subscriber   \n",
       "\n",
       "      birth year  gender                date  \n",
       "0         1960.0       2 2015-01-01 00:01:00  \n",
       "1000      1984.0       1 2015-01-01 10:46:00  \n",
       "2000      1964.0       1 2015-01-01 13:39:00  \n",
       "3000      1990.0       1 2015-01-01 15:48:00  \n",
       "4000      1967.0       1 2015-01-01 17:51:00  "
      ]
     },
     "execution_count": 27,
     "metadata": {},
     "output_type": "execute_result"
    }
   ],
   "source": [
    "#creating a date column by converting the starttime column using pd.to_datetime\n",
    "cb2015['date'] = pd.to_datetime(cb2015['starttime'], errors='coerce', infer_datetime_format=True)\n",
    "cb2015.head()"
   ]
  },
  {
   "cell_type": "code",
   "execution_count": 29,
   "metadata": {},
   "outputs": [
    {
     "name": "stderr",
     "output_type": "stream",
     "text": [
      "/usr/local/Anaconda3-5.0.0-Linux-x86_64/envs/PUI2016_Python3/lib/python3.5/site-packages/ipykernel/__main__.py:1: SettingWithCopyWarning: \n",
      "A value is trying to be set on a copy of a slice from a DataFrame.\n",
      "Try using .loc[row_indexer,col_indexer] = value instead\n",
      "\n",
      "See the caveats in the documentation: http://pandas.pydata.org/pandas-docs/stable/indexing.html#indexing-view-versus-copy\n",
      "  if __name__ == '__main__':\n"
     ]
    },
    {
     "data": {
      "text/html": [
       "<div>\n",
       "<table border=\"1\" class=\"dataframe\">\n",
       "  <thead>\n",
       "    <tr style=\"text-align: right;\">\n",
       "      <th></th>\n",
       "      <th>tripduration</th>\n",
       "      <th>starttime</th>\n",
       "      <th>stoptime</th>\n",
       "      <th>start station id</th>\n",
       "      <th>start station name</th>\n",
       "      <th>start station latitude</th>\n",
       "      <th>start station longitude</th>\n",
       "      <th>end station id</th>\n",
       "      <th>end station name</th>\n",
       "      <th>end station latitude</th>\n",
       "      <th>end station longitude</th>\n",
       "      <th>bikeid</th>\n",
       "      <th>usertype</th>\n",
       "      <th>birth year</th>\n",
       "      <th>gender</th>\n",
       "      <th>date</th>\n",
       "      <th>hour</th>\n",
       "    </tr>\n",
       "  </thead>\n",
       "  <tbody>\n",
       "    <tr>\n",
       "      <th>0</th>\n",
       "      <td>1346</td>\n",
       "      <td>1/1/2015 0:01</td>\n",
       "      <td>1/1/2015 0:24</td>\n",
       "      <td>455</td>\n",
       "      <td>1 Ave &amp; E 44 St</td>\n",
       "      <td>40.750020</td>\n",
       "      <td>-73.969053</td>\n",
       "      <td>265</td>\n",
       "      <td>Stanton St &amp; Chrystie St</td>\n",
       "      <td>40.722293</td>\n",
       "      <td>-73.991475</td>\n",
       "      <td>18660</td>\n",
       "      <td>Subscriber</td>\n",
       "      <td>1960.0</td>\n",
       "      <td>2</td>\n",
       "      <td>2015-01-01 00:01:00</td>\n",
       "      <td>0</td>\n",
       "    </tr>\n",
       "    <tr>\n",
       "      <th>1000</th>\n",
       "      <td>581</td>\n",
       "      <td>1/1/2015 10:46</td>\n",
       "      <td>1/1/2015 10:56</td>\n",
       "      <td>466</td>\n",
       "      <td>W 25 St &amp; 6 Ave</td>\n",
       "      <td>40.743954</td>\n",
       "      <td>-73.991449</td>\n",
       "      <td>375</td>\n",
       "      <td>Mercer St &amp; Bleecker St</td>\n",
       "      <td>40.726795</td>\n",
       "      <td>-73.996951</td>\n",
       "      <td>15552</td>\n",
       "      <td>Subscriber</td>\n",
       "      <td>1984.0</td>\n",
       "      <td>1</td>\n",
       "      <td>2015-01-01 10:46:00</td>\n",
       "      <td>10</td>\n",
       "    </tr>\n",
       "    <tr>\n",
       "      <th>2000</th>\n",
       "      <td>727</td>\n",
       "      <td>1/1/2015 13:39</td>\n",
       "      <td>1/1/2015 13:51</td>\n",
       "      <td>312</td>\n",
       "      <td>Allen St &amp; E Houston St</td>\n",
       "      <td>40.722055</td>\n",
       "      <td>-73.989111</td>\n",
       "      <td>428</td>\n",
       "      <td>E 3 St &amp; 1 Ave</td>\n",
       "      <td>40.724677</td>\n",
       "      <td>-73.987834</td>\n",
       "      <td>20781</td>\n",
       "      <td>Subscriber</td>\n",
       "      <td>1964.0</td>\n",
       "      <td>1</td>\n",
       "      <td>2015-01-01 13:39:00</td>\n",
       "      <td>13</td>\n",
       "    </tr>\n",
       "    <tr>\n",
       "      <th>3000</th>\n",
       "      <td>490</td>\n",
       "      <td>1/1/2015 15:48</td>\n",
       "      <td>1/1/2015 15:56</td>\n",
       "      <td>483</td>\n",
       "      <td>E 12 St &amp; 3 Ave</td>\n",
       "      <td>40.732233</td>\n",
       "      <td>-73.988900</td>\n",
       "      <td>482</td>\n",
       "      <td>W 15 St &amp; 7 Ave</td>\n",
       "      <td>40.739355</td>\n",
       "      <td>-73.999318</td>\n",
       "      <td>17606</td>\n",
       "      <td>Subscriber</td>\n",
       "      <td>1990.0</td>\n",
       "      <td>1</td>\n",
       "      <td>2015-01-01 15:48:00</td>\n",
       "      <td>15</td>\n",
       "    </tr>\n",
       "    <tr>\n",
       "      <th>4000</th>\n",
       "      <td>182</td>\n",
       "      <td>1/1/2015 17:51</td>\n",
       "      <td>1/1/2015 17:54</td>\n",
       "      <td>297</td>\n",
       "      <td>E 15 St &amp; 3 Ave</td>\n",
       "      <td>40.734232</td>\n",
       "      <td>-73.986923</td>\n",
       "      <td>2003</td>\n",
       "      <td>1 Ave &amp; E 18 St</td>\n",
       "      <td>40.734161</td>\n",
       "      <td>-73.980243</td>\n",
       "      <td>18978</td>\n",
       "      <td>Subscriber</td>\n",
       "      <td>1967.0</td>\n",
       "      <td>1</td>\n",
       "      <td>2015-01-01 17:51:00</td>\n",
       "      <td>17</td>\n",
       "    </tr>\n",
       "  </tbody>\n",
       "</table>\n",
       "</div>"
      ],
      "text/plain": [
       "      tripduration       starttime        stoptime  start station id  \\\n",
       "0             1346   1/1/2015 0:01   1/1/2015 0:24               455   \n",
       "1000           581  1/1/2015 10:46  1/1/2015 10:56               466   \n",
       "2000           727  1/1/2015 13:39  1/1/2015 13:51               312   \n",
       "3000           490  1/1/2015 15:48  1/1/2015 15:56               483   \n",
       "4000           182  1/1/2015 17:51  1/1/2015 17:54               297   \n",
       "\n",
       "           start station name  start station latitude  \\\n",
       "0             1 Ave & E 44 St               40.750020   \n",
       "1000          W 25 St & 6 Ave               40.743954   \n",
       "2000  Allen St & E Houston St               40.722055   \n",
       "3000          E 12 St & 3 Ave               40.732233   \n",
       "4000          E 15 St & 3 Ave               40.734232   \n",
       "\n",
       "      start station longitude  end station id          end station name  \\\n",
       "0                  -73.969053             265  Stanton St & Chrystie St   \n",
       "1000               -73.991449             375   Mercer St & Bleecker St   \n",
       "2000               -73.989111             428            E 3 St & 1 Ave   \n",
       "3000               -73.988900             482           W 15 St & 7 Ave   \n",
       "4000               -73.986923            2003           1 Ave & E 18 St   \n",
       "\n",
       "      end station latitude  end station longitude  bikeid    usertype  \\\n",
       "0                40.722293             -73.991475   18660  Subscriber   \n",
       "1000             40.726795             -73.996951   15552  Subscriber   \n",
       "2000             40.724677             -73.987834   20781  Subscriber   \n",
       "3000             40.739355             -73.999318   17606  Subscriber   \n",
       "4000             40.734161             -73.980243   18978  Subscriber   \n",
       "\n",
       "      birth year  gender                date  hour  \n",
       "0         1960.0       2 2015-01-01 00:01:00     0  \n",
       "1000      1984.0       1 2015-01-01 10:46:00    10  \n",
       "2000      1964.0       1 2015-01-01 13:39:00    13  \n",
       "3000      1990.0       1 2015-01-01 15:48:00    15  \n",
       "4000      1967.0       1 2015-01-01 17:51:00    17  "
      ]
     },
     "execution_count": 29,
     "metadata": {},
     "output_type": "execute_result"
    }
   ],
   "source": [
    "cb2015['hour'] = cb2015.date.dt.hour\n",
    "cb2015.head()"
   ]
  },
  {
   "cell_type": "code",
   "execution_count": 34,
   "metadata": {},
   "outputs": [
    {
     "data": {
      "text/plain": [
       "0          True\n",
       "1000      False\n",
       "2000      False\n",
       "3000      False\n",
       "4000      False\n",
       "5000       True\n",
       "6000       True\n",
       "7000      False\n",
       "8000      False\n",
       "9000      False\n",
       "10000     False\n",
       "11000     False\n",
       "12000     False\n",
       "13000     False\n",
       "14000     False\n",
       "15000      True\n",
       "16000      True\n",
       "17000      True\n",
       "18000     False\n",
       "19000     False\n",
       "20000     False\n",
       "21000      True\n",
       "22000     False\n",
       "23000     False\n",
       "24000     False\n",
       "25000     False\n",
       "26000     False\n",
       "27000     False\n",
       "28000      True\n",
       "29000      True\n",
       "          ...  \n",
       "256000    False\n",
       "257000     True\n",
       "258000    False\n",
       "259000    False\n",
       "260000    False\n",
       "261000    False\n",
       "262000     True\n",
       "263000     True\n",
       "264000    False\n",
       "265000    False\n",
       "266000    False\n",
       "267000    False\n",
       "268000    False\n",
       "269000    False\n",
       "270000     True\n",
       "271000     True\n",
       "272000     True\n",
       "273000    False\n",
       "274000    False\n",
       "275000    False\n",
       "276000    False\n",
       "277000    False\n",
       "278000    False\n",
       "279000    False\n",
       "280000     True\n",
       "281000    False\n",
       "282000    False\n",
       "283000    False\n",
       "284000    False\n",
       "285000     True\n",
       "Name: hour, dtype: bool"
      ]
     },
     "execution_count": 34,
     "metadata": {},
     "output_type": "execute_result"
    }
   ],
   "source": [
    "(cb2015['hour'] > 18) | (cb2015['hour'] <8)"
   ]
  },
  {
   "cell_type": "code",
   "execution_count": 40,
   "metadata": {},
   "outputs": [
    {
     "data": {
      "text/plain": [
       "<matplotlib.axes._subplots.AxesSubplot at 0x7fe0e57f0b70>"
      ]
     },
     "execution_count": 40,
     "metadata": {},
     "output_type": "execute_result"
    },
    {
     "data": {
      "image/png": "[encoded data removed]",
      "text/plain": [
       "<matplotlib.figure.Figure at 0x7fe0e0d9ad68>"
      ]
     },
     "metadata": {},
     "output_type": "display_data"
    }
   ],
   "source": [
    "cb2015['hour'][(cb2015['hour'] > 18)].hist()"
   ]
  },
  {
   "cell_type": "code",
   "execution_count": 41,
   "metadata": {},
   "outputs": [
    {
     "data": {
      "text/plain": [
       "<matplotlib.axes._subplots.AxesSubplot at 0x7fe0e0d47828>"
      ]
     },
     "execution_count": 41,
     "metadata": {},
     "output_type": "execute_result"
    },
    {
     "data": {
      "image/png": "[encoded data removed]",
      "text/plain": [
       "<matplotlib.figure.Figure at 0x7fe0e0d00080>"
      ]
     },
     "metadata": {},
     "output_type": "display_data"
    }
   ],
   "source": [
    "cb2015['hour'][cb2015['hour'] < 8].hist()"
   ]
  },
  {
   "cell_type": "code",
   "execution_count": 47,
   "metadata": {},
   "outputs": [
    {
     "data": {
      "text/plain": [
       "<matplotlib.axes._subplots.AxesSubplot at 0x7fe0e0656400>"
      ]
     },
     "execution_count": 47,
     "metadata": {},
     "output_type": "execute_result"
    },
    {
     "data": {
      "image/png": "[encoded data removed]",
      "text/plain": [
       "<matplotlib.figure.Figure at 0x7fe0e06900f0>"
      ]
     },
     "metadata": {},
     "output_type": "display_data"
    }
   ],
   "source": [
    "cb2015['hour'][(cb2015['hour'] > 18)|(cb2015['hour'] <8)].hist()"
   ]
  },
  {
   "cell_type": "code",
   "execution_count": 48,
   "metadata": {},
   "outputs": [
    {
     "data": {
      "text/plain": [
       "<matplotlib.axes._subplots.AxesSubplot at 0x7fe0e0659748>"
      ]
     },
     "execution_count": 48,
     "metadata": {},
     "output_type": "execute_result"
    },
    {
     "data": {
      "image/png": "[encoded data removed]",
      "text/plain": [
       "<matplotlib.figure.Figure at 0x7fe0e055e048>"
      ]
     },
     "metadata": {},
     "output_type": "display_data"
    }
   ],
   "source": [
    "cb2015['hour'][~((cb2015['hour'] > 18)|(cb2015['hour'] <8))].hist()"
   ]
  },
  {
   "cell_type": "code",
   "execution_count": 52,
   "metadata": {},
   "outputs": [],
   "source": [
    "night = ((cb2015['hour'] > 18)|(cb2015['hour'] <8))"
   ]
  },
  {
   "cell_type": "code",
   "execution_count": 53,
   "metadata": {},
   "outputs": [
    {
     "data": {
      "text/plain": [
       "(286, 17)"
      ]
     },
     "execution_count": 53,
     "metadata": {},
     "output_type": "execute_result"
    }
   ],
   "source": [
    "cb2015.shape"
   ]
  },
  {
   "cell_type": "code",
   "execution_count": 54,
   "metadata": {},
   "outputs": [
    {
     "data": {
      "text/plain": [
       "(79, 17)"
      ]
     },
     "execution_count": 54,
     "metadata": {},
     "output_type": "execute_result"
    }
   ],
   "source": [
    "cb2015[night].shape"
   ]
  },
  {
   "cell_type": "code",
   "execution_count": 55,
   "metadata": {},
   "outputs": [
    {
     "data": {
      "text/plain": [
       "(207, 17)"
      ]
     },
     "execution_count": 55,
     "metadata": {},
     "output_type": "execute_result"
    }
   ],
   "source": [
    "cb2015[~night].shape"
   ]
  },
  {
   "cell_type": "code",
   "execution_count": 56,
   "metadata": {},
   "outputs": [
    {
     "data": {
      "text/plain": [
       "Index(['tripduration', 'starttime', 'stoptime', 'start station id',\n",
       "       'start station name', 'start station latitude',\n",
       "       'start station longitude', 'end station id', 'end station name',\n",
       "       'end station latitude', 'end station longitude', 'bikeid', 'usertype',\n",
       "       'birth year', 'gender', 'date', 'hour'],\n",
       "      dtype='object')"
      ]
     },
     "execution_count": 56,
     "metadata": {},
     "output_type": "execute_result"
    }
   ],
   "source": [
    "cb2015.columns"
   ]
  },
  {
   "cell_type": "code",
   "execution_count": 58,
   "metadata": {},
   "outputs": [
    {
     "data": {
      "text/html": [
       "<div>\n",
       "<table border=\"1\" class=\"dataframe\">\n",
       "  <thead>\n",
       "    <tr style=\"text-align: right;\">\n",
       "      <th></th>\n",
       "      <th>start station latitude</th>\n",
       "      <th>start station longitude</th>\n",
       "    </tr>\n",
       "  </thead>\n",
       "  <tbody>\n",
       "    <tr>\n",
       "      <th>0</th>\n",
       "      <td>40.750020</td>\n",
       "      <td>-73.969053</td>\n",
       "    </tr>\n",
       "    <tr>\n",
       "      <th>1000</th>\n",
       "      <td>40.743954</td>\n",
       "      <td>-73.991449</td>\n",
       "    </tr>\n",
       "    <tr>\n",
       "      <th>2000</th>\n",
       "      <td>40.722055</td>\n",
       "      <td>-73.989111</td>\n",
       "    </tr>\n",
       "    <tr>\n",
       "      <th>3000</th>\n",
       "      <td>40.732233</td>\n",
       "      <td>-73.988900</td>\n",
       "    </tr>\n",
       "    <tr>\n",
       "      <th>4000</th>\n",
       "      <td>40.734232</td>\n",
       "      <td>-73.986923</td>\n",
       "    </tr>\n",
       "  </tbody>\n",
       "</table>\n",
       "</div>"
      ],
      "text/plain": [
       "      start station latitude  start station longitude\n",
       "0                  40.750020               -73.969053\n",
       "1000               40.743954               -73.991449\n",
       "2000               40.722055               -73.989111\n",
       "3000               40.732233               -73.988900\n",
       "4000               40.734232               -73.986923"
      ]
     },
     "execution_count": 58,
     "metadata": {},
     "output_type": "execute_result"
    }
   ],
   "source": [
    "cb2015[['start station latitude',\n",
    "       'start station longitude']].head()"
   ]
  },
  {
   "cell_type": "code",
   "execution_count": 59,
   "metadata": {},
   "outputs": [
    {
     "name": "stderr",
     "output_type": "stream",
     "text": [
      "/usr/local/Anaconda3-5.0.0-Linux-x86_64/envs/PUI2016_Python3/lib/python3.5/site-packages/ipykernel/__main__.py:2: SettingWithCopyWarning: \n",
      "A value is trying to be set on a copy of a slice from a DataFrame.\n",
      "Try using .loc[row_indexer,col_indexer] = value instead\n",
      "\n",
      "See the caveats in the documentation: http://pandas.pydata.org/pandas-docs/stable/indexing.html#indexing-view-versus-copy\n",
      "  from ipykernel import kernelapp as app\n"
     ]
    }
   ],
   "source": [
    "cb2015['lonlat'] = list(zip(cb2015['start station latitude'].values,\n",
    "                            cb2015['start station longitude'].values))"
   ]
  },
  {
   "cell_type": "code",
   "execution_count": 63,
   "metadata": {},
   "outputs": [
    {
     "name": "stderr",
     "output_type": "stream",
     "text": [
      "/usr/local/Anaconda3-5.0.0-Linux-x86_64/envs/PUI2016_Python3/lib/python3.5/site-packages/ipykernel/__main__.py:1: SettingWithCopyWarning: \n",
      "A value is trying to be set on a copy of a slice from a DataFrame.\n",
      "Try using .loc[row_indexer,col_indexer] = value instead\n",
      "\n",
      "See the caveats in the documentation: http://pandas.pydata.org/pandas-docs/stable/indexing.html#indexing-view-versus-copy\n",
      "  if __name__ == '__main__':\n"
     ]
    }
   ],
   "source": [
    "cb2015['geometry'] = cb2015[['lonlat']].applymap(lambda x: shapely.geometry.Point(x))"
   ]
  },
  {
   "cell_type": "code",
   "execution_count": 66,
   "metadata": {},
   "outputs": [],
   "source": [
    "cb2015 = gpd.GeoDataFrame(cb2015)"
   ]
  },
  {
   "cell_type": "code",
   "execution_count": 67,
   "metadata": {},
   "outputs": [],
   "source": [
    "cb2015.crs = from_epsg(4326)"
   ]
  },
  {
   "cell_type": "code",
   "execution_count": 68,
   "metadata": {},
   "outputs": [
    {
     "data": {
      "text/plain": [
       "{'init': 'epsg:4326', 'no_defs': True}"
      ]
     },
     "execution_count": 68,
     "metadata": {},
     "output_type": "execute_result"
    }
   ],
   "source": [
    "cb2015.crs"
   ]
  },
  {
   "cell_type": "code",
   "execution_count": 69,
   "metadata": {},
   "outputs": [
    {
     "data": {
      "text/plain": [
       "<matplotlib.axes._subplots.AxesSubplot at 0x7fe0e06a0c50>"
      ]
     },
     "execution_count": 69,
     "metadata": {},
     "output_type": "execute_result"
    },
    {
     "data": {
      "image/png": "[encoded data removed]",
      "text/plain": [
       "<matplotlib.figure.Figure at 0x7fe0e04af080>"
      ]
     },
     "metadata": {},
     "output_type": "display_data"
    }
   ],
   "source": [
    "cb2015.plot()"
   ]
  },
  {
   "cell_type": "code",
   "execution_count": 70,
   "metadata": {},
   "outputs": [
    {
     "data": {
      "text/html": [
       "<div>\n",
       "<table border=\"1\" class=\"dataframe\">\n",
       "  <thead>\n",
       "    <tr style=\"text-align: right;\">\n",
       "      <th></th>\n",
       "      <th>tripduration</th>\n",
       "      <th>starttime</th>\n",
       "      <th>stoptime</th>\n",
       "      <th>start station id</th>\n",
       "      <th>start station name</th>\n",
       "      <th>start station latitude</th>\n",
       "      <th>start station longitude</th>\n",
       "      <th>end station id</th>\n",
       "      <th>end station name</th>\n",
       "      <th>end station latitude</th>\n",
       "      <th>end station longitude</th>\n",
       "      <th>bikeid</th>\n",
       "      <th>usertype</th>\n",
       "      <th>birth year</th>\n",
       "      <th>gender</th>\n",
       "      <th>date</th>\n",
       "      <th>hour</th>\n",
       "      <th>lonlat</th>\n",
       "      <th>geometry</th>\n",
       "    </tr>\n",
       "  </thead>\n",
       "  <tbody>\n",
       "    <tr>\n",
       "      <th>0</th>\n",
       "      <td>1346</td>\n",
       "      <td>1/1/2015 0:01</td>\n",
       "      <td>1/1/2015 0:24</td>\n",
       "      <td>455</td>\n",
       "      <td>1 Ave &amp; E 44 St</td>\n",
       "      <td>40.750020</td>\n",
       "      <td>-73.969053</td>\n",
       "      <td>265</td>\n",
       "      <td>Stanton St &amp; Chrystie St</td>\n",
       "      <td>40.722293</td>\n",
       "      <td>-73.991475</td>\n",
       "      <td>18660</td>\n",
       "      <td>Subscriber</td>\n",
       "      <td>1960.0</td>\n",
       "      <td>2</td>\n",
       "      <td>2015-01-01 00:01:00</td>\n",
       "      <td>0</td>\n",
       "      <td>(40.75001986, -73.96905301)</td>\n",
       "      <td>POINT (40.75001986 -73.96905301)</td>\n",
       "    </tr>\n",
       "    <tr>\n",
       "      <th>1000</th>\n",
       "      <td>581</td>\n",
       "      <td>1/1/2015 10:46</td>\n",
       "      <td>1/1/2015 10:56</td>\n",
       "      <td>466</td>\n",
       "      <td>W 25 St &amp; 6 Ave</td>\n",
       "      <td>40.743954</td>\n",
       "      <td>-73.991449</td>\n",
       "      <td>375</td>\n",
       "      <td>Mercer St &amp; Bleecker St</td>\n",
       "      <td>40.726795</td>\n",
       "      <td>-73.996951</td>\n",
       "      <td>15552</td>\n",
       "      <td>Subscriber</td>\n",
       "      <td>1984.0</td>\n",
       "      <td>1</td>\n",
       "      <td>2015-01-01 10:46:00</td>\n",
       "      <td>10</td>\n",
       "      <td>(40.74395411, -73.99144871)</td>\n",
       "      <td>POINT (40.74395411 -73.99144871)</td>\n",
       "    </tr>\n",
       "    <tr>\n",
       "      <th>2000</th>\n",
       "      <td>727</td>\n",
       "      <td>1/1/2015 13:39</td>\n",
       "      <td>1/1/2015 13:51</td>\n",
       "      <td>312</td>\n",
       "      <td>Allen St &amp; E Houston St</td>\n",
       "      <td>40.722055</td>\n",
       "      <td>-73.989111</td>\n",
       "      <td>428</td>\n",
       "      <td>E 3 St &amp; 1 Ave</td>\n",
       "      <td>40.724677</td>\n",
       "      <td>-73.987834</td>\n",
       "      <td>20781</td>\n",
       "      <td>Subscriber</td>\n",
       "      <td>1964.0</td>\n",
       "      <td>1</td>\n",
       "      <td>2015-01-01 13:39:00</td>\n",
       "      <td>13</td>\n",
       "      <td>(40.722055, -73.989111)</td>\n",
       "      <td>POINT (40.722055 -73.98911099999999)</td>\n",
       "    </tr>\n",
       "    <tr>\n",
       "      <th>3000</th>\n",
       "      <td>490</td>\n",
       "      <td>1/1/2015 15:48</td>\n",
       "      <td>1/1/2015 15:56</td>\n",
       "      <td>483</td>\n",
       "      <td>E 12 St &amp; 3 Ave</td>\n",
       "      <td>40.732233</td>\n",
       "      <td>-73.988900</td>\n",
       "      <td>482</td>\n",
       "      <td>W 15 St &amp; 7 Ave</td>\n",
       "      <td>40.739355</td>\n",
       "      <td>-73.999318</td>\n",
       "      <td>17606</td>\n",
       "      <td>Subscriber</td>\n",
       "      <td>1990.0</td>\n",
       "      <td>1</td>\n",
       "      <td>2015-01-01 15:48:00</td>\n",
       "      <td>15</td>\n",
       "      <td>(40.73223272, -73.98889957)</td>\n",
       "      <td>POINT (40.73223272 -73.98889957)</td>\n",
       "    </tr>\n",
       "    <tr>\n",
       "      <th>4000</th>\n",
       "      <td>182</td>\n",
       "      <td>1/1/2015 17:51</td>\n",
       "      <td>1/1/2015 17:54</td>\n",
       "      <td>297</td>\n",
       "      <td>E 15 St &amp; 3 Ave</td>\n",
       "      <td>40.734232</td>\n",
       "      <td>-73.986923</td>\n",
       "      <td>2003</td>\n",
       "      <td>1 Ave &amp; E 18 St</td>\n",
       "      <td>40.734161</td>\n",
       "      <td>-73.980243</td>\n",
       "      <td>18978</td>\n",
       "      <td>Subscriber</td>\n",
       "      <td>1967.0</td>\n",
       "      <td>1</td>\n",
       "      <td>2015-01-01 17:51:00</td>\n",
       "      <td>17</td>\n",
       "      <td>(40.734232, -73.986923)</td>\n",
       "      <td>POINT (40.734232 -73.986923)</td>\n",
       "    </tr>\n",
       "  </tbody>\n",
       "</table>\n",
       "</div>"
      ],
      "text/plain": [
       "      tripduration       starttime        stoptime  start station id  \\\n",
       "0             1346   1/1/2015 0:01   1/1/2015 0:24               455   \n",
       "1000           581  1/1/2015 10:46  1/1/2015 10:56               466   \n",
       "2000           727  1/1/2015 13:39  1/1/2015 13:51               312   \n",
       "3000           490  1/1/2015 15:48  1/1/2015 15:56               483   \n",
       "4000           182  1/1/2015 17:51  1/1/2015 17:54               297   \n",
       "\n",
       "           start station name  start station latitude  \\\n",
       "0             1 Ave & E 44 St               40.750020   \n",
       "1000          W 25 St & 6 Ave               40.743954   \n",
       "2000  Allen St & E Houston St               40.722055   \n",
       "3000          E 12 St & 3 Ave               40.732233   \n",
       "4000          E 15 St & 3 Ave               40.734232   \n",
       "\n",
       "      start station longitude  end station id          end station name  \\\n",
       "0                  -73.969053             265  Stanton St & Chrystie St   \n",
       "1000               -73.991449             375   Mercer St & Bleecker St   \n",
       "2000               -73.989111             428            E 3 St & 1 Ave   \n",
       "3000               -73.988900             482           W 15 St & 7 Ave   \n",
       "4000               -73.986923            2003           1 Ave & E 18 St   \n",
       "\n",
       "      end station latitude  end station longitude  bikeid    usertype  \\\n",
       "0                40.722293             -73.991475   18660  Subscriber   \n",
       "1000             40.726795             -73.996951   15552  Subscriber   \n",
       "2000             40.724677             -73.987834   20781  Subscriber   \n",
       "3000             40.739355             -73.999318   17606  Subscriber   \n",
       "4000             40.734161             -73.980243   18978  Subscriber   \n",
       "\n",
       "      birth year  gender                date  hour  \\\n",
       "0         1960.0       2 2015-01-01 00:01:00     0   \n",
       "1000      1984.0       1 2015-01-01 10:46:00    10   \n",
       "2000      1964.0       1 2015-01-01 13:39:00    13   \n",
       "3000      1990.0       1 2015-01-01 15:48:00    15   \n",
       "4000      1967.0       1 2015-01-01 17:51:00    17   \n",
       "\n",
       "                           lonlat                              geometry  \n",
       "0     (40.75001986, -73.96905301)      POINT (40.75001986 -73.96905301)  \n",
       "1000  (40.74395411, -73.99144871)      POINT (40.74395411 -73.99144871)  \n",
       "2000      (40.722055, -73.989111)  POINT (40.722055 -73.98911099999999)  \n",
       "3000  (40.73223272, -73.98889957)      POINT (40.73223272 -73.98889957)  \n",
       "4000      (40.734232, -73.986923)          POINT (40.734232 -73.986923)  "
      ]
     },
     "execution_count": 70,
     "metadata": {},
     "output_type": "execute_result"
    }
   ],
   "source": [
    "cb2015.head()"
   ]
  },
  {
   "cell_type": "code",
   "execution_count": 88,
   "metadata": {},
   "outputs": [
    {
     "data": {
      "text/plain": [
       "15"
      ]
     },
     "execution_count": 88,
     "metadata": {},
     "output_type": "execute_result"
    }
   ],
   "source": [
    "#use me\n",
    "(cb2015[night]['tripduration'] > 1000).sum()"
   ]
  },
  {
   "cell_type": "code",
   "execution_count": 87,
   "metadata": {},
   "outputs": [
    {
     "data": {
      "text/plain": [
       "79"
      ]
     },
     "execution_count": 87,
     "metadata": {},
     "output_type": "execute_result"
    }
   ],
   "source": [
    "len(cb2015[night]['tripduration'] > 1000)"
   ]
  },
  {
   "cell_type": "code",
   "execution_count": 98,
   "metadata": {},
   "outputs": [
    {
     "name": "stderr",
     "output_type": "stream",
     "text": [
      "/usr/local/Anaconda3-5.0.0-Linux-x86_64/envs/PUI2016_Python3/lib/python3.5/site-packages/geopandas/geodataframe.py:398: UserWarning: Boolean Series key will be reindexed to match DataFrame index.\n",
      "  result = super(GeoDataFrame, self).__getitem__(key)\n"
     ]
    },
    {
     "data": {
      "text/plain": [
       "tripduration               15\n",
       "starttime                  15\n",
       "stoptime                   15\n",
       "start station id           15\n",
       "start station name         15\n",
       "start station latitude     15\n",
       "start station longitude    15\n",
       "end station id             15\n",
       "end station name           15\n",
       "end station latitude       15\n",
       "end station longitude      15\n",
       "bikeid                     15\n",
       "usertype                   15\n",
       "birth year                 14\n",
       "gender                     15\n",
       "date                       15\n",
       "hour                       15\n",
       "lonlat                     15\n",
       "geometry                   15\n",
       "dtype: int64"
      ]
     },
     "execution_count": 98,
     "metadata": {},
     "output_type": "execute_result"
    }
   ],
   "source": [
    "(cb2015[night][cb2015['tripduration']>1000]).count()"
   ]
  },
  {
   "cell_type": "code",
   "execution_count": 99,
   "metadata": {},
   "outputs": [
    {
     "name": "stderr",
     "output_type": "stream",
     "text": [
      "/usr/local/Anaconda3-5.0.0-Linux-x86_64/envs/PUI2016_Python3/lib/python3.5/site-packages/geopandas/geodataframe.py:398: UserWarning: Boolean Series key will be reindexed to match DataFrame index.\n",
      "  result = super(GeoDataFrame, self).__getitem__(key)\n"
     ]
    },
    {
     "data": {
      "text/plain": [
       "tripduration                19783.000000\n",
       "start station id             5962.000000\n",
       "start station latitude        611.082881\n",
       "start station longitude     -1109.846852\n",
       "end station id               6644.000000\n",
       "end station latitude          610.959822\n",
       "end station longitude       -1109.841034\n",
       "bikeid                     286401.000000\n",
       "birth year                  27645.000000\n",
       "gender                         18.000000\n",
       "hour                          199.000000\n",
       "dtype: float64"
      ]
     },
     "execution_count": 99,
     "metadata": {},
     "output_type": "execute_result"
    }
   ],
   "source": [
    "(cb2015[night][cb2015['tripduration']>1000]).sum()"
   ]
  },
  {
   "cell_type": "code",
   "execution_count": 100,
   "metadata": {},
   "outputs": [
    {
     "data": {
      "text/plain": [
       "64"
      ]
     },
     "execution_count": 100,
     "metadata": {},
     "output_type": "execute_result"
    }
   ],
   "source": [
    "(cb2015[night]['tripduration'] <= 1000).sum()"
   ]
  },
  {
   "cell_type": "code",
   "execution_count": 104,
   "metadata": {},
   "outputs": [
    {
     "data": {
      "text/plain": [
       "[15, 64]"
      ]
     },
     "execution_count": 104,
     "metadata": {},
     "output_type": "execute_result"
    }
   ],
   "source": [
    "[(cb2015[night]['tripduration'] > 1000).sum(), (cb2015[night]['tripduration'] <= 1000).sum()]"
   ]
  },
  {
   "cell_type": "markdown",
   "metadata": {},
   "source": [
    "**null hypothesis that the number of trips is uniformly distributed across the time interval (night)**\n"
   ]
  },
  {
   "cell_type": "code",
   "execution_count": 105,
   "metadata": {},
   "outputs": [
    {
     "data": {
      "text/plain": [
       "Power_divergenceResult(statistic=30.39240506329114, pvalue=3.5290718649380182e-08)"
      ]
     },
     "execution_count": 105,
     "metadata": {},
     "output_type": "execute_result"
    }
   ],
   "source": [
    "#The chi square test tests the null hypothesis that the categorical data has the given frequencies.\n",
    "\n",
    "#it tests whether the distribution of sample categorical data matches an expected distribution.\n",
    "\n",
    "sp.stats.chisquare([(cb2015[night].tripduration > 1000).sum(),\n",
    "                    (cb2015[night].tripduration <= 1000).sum()])"
   ]
  },
  {
   "cell_type": "markdown",
   "metadata": {},
   "source": [
    "**null hypothesis that the number of trips is uniformly distributed across the time interval (day)**\n"
   ]
  },
  {
   "cell_type": "code",
   "execution_count": 106,
   "metadata": {},
   "outputs": [
    {
     "data": {
      "text/plain": [
       "Power_divergenceResult(statistic=79.181385281385289, pvalue=5.6661441331254484e-19)"
      ]
     },
     "execution_count": 106,
     "metadata": {},
     "output_type": "execute_result"
    }
   ],
   "source": [
    "#t est if the split between trips longer than 1000 seconds \n",
    "# and shorter than 1000 seconds is the same during the day and during the night\n",
    "sp.stats.chisquare([(cb2015[night].tripduration > 1000).sum(), \n",
    "                    (cb2015[night].tripduration <= 1000).sum()],\n",
    "                   [(cb2015[~night].tripduration > 1000).sum(), \n",
    "                    (cb2015[~night].tripduration <= 1000).sum()])"
   ]
  },
  {
   "cell_type": "code",
   "execution_count": 110,
   "metadata": {},
   "outputs": [
    {
     "data": {
      "text/plain": [
       "KstestResult(statistic=0.11020529110633848, pvalue=0.0017624145717405337)"
      ]
     },
     "execution_count": 110,
     "metadata": {},
     "output_type": "execute_result"
    },
    {
     "data": {
      "image/png": "[encoded data removed]",
      "text/plain": [
       "<matplotlib.figure.Figure at 0x7fe0e03e3a90>"
      ]
     },
     "metadata": {},
     "output_type": "display_data"
    }
   ],
   "source": [
    "plt.hist(np.random.randn(500), alpha=0.5)\n",
    "\n",
    "plt.hist((cb2015.tripduration.values - cb2015.tripduration.values.mean()) \\\n",
    "        / cb2015.tripduration.values.std())\n",
    "sp.stats.kstest((cb2015.tripduration.values - cb2015.tripduration.values.mean()) \n",
    "                / cb2015.tripduration.values.std(), \"norm\")"
   ]
  },
  {
   "cell_type": "code",
   "execution_count": 111,
   "metadata": {},
   "outputs": [
    {
     "data": {
      "text/plain": [
       "(-0.076104621648486484, 0.20503752589008437)"
      ]
     },
     "execution_count": 111,
     "metadata": {},
     "output_type": "execute_result"
    }
   ],
   "source": [
    "#tests that only compare shapes, regardless of the mean, include tests for correlation\n",
    "#I have to remove the nans before running a Pearson's r test\n",
    "cb2015.dropna(inplace=True)\n",
    "stats.pearsonr(cb2015.tripduration.values, cb2015['birth year'].values)\n"
   ]
  },
  {
   "cell_type": "code",
   "execution_count": null,
   "metadata": {},
   "outputs": [],
   "source": []
  }
 ],
 "metadata": {
  "kernelspec": {
   "display_name": "PUI2016_Python3",
   "language": "python",
   "name": "pui2016_python3"
  },
  "language_info": {
   "codemirror_mode": {
    "name": "ipython",
    "version": 3
   },
   "file_extension": ".py",
   "mimetype": "text/x-python",
   "name": "python",
   "nbconvert_exporter": "python",
   "pygments_lexer": "ipython3",
   "version": "3.5.4"
  }
 },
 "nbformat": 4,
 "nbformat_minor": 2
}
