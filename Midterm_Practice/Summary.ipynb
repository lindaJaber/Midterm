{
 "cells": [
  {
   "cell_type": "markdown",
   "metadata": {},
   "source": [
    "## Setting environment variables:"
   ]
  },
  {
   "cell_type": "markdown",
   "metadata": {},
   "source": [
    "nano .bashrc  \n",
    "export VARNAME=\"var end point\"  \n",
    "alias alias_name=\"alias command\"   \n",
    "source ~/.bashrc  \n",
    "echo $VARNAME"
   ]
  },
  {
   "cell_type": "markdown",
   "metadata": {},
   "source": [
    "## To download a file from github\n",
    "\n",
    "1) you can **clone** my repository, **fork** my repository,\n",
    "\n",
    "``` \n",
    "git clone REPO PATH\n",
    "\n",
    "```\n",
    "\n",
    "**OR** do it **manually** as follows:\n",
    "\n",
    "1) On the terminal go to the directory you want to download in.\n",
    "\n",
    "2) **click on Raw** next to the notebook.Now you have 2 choices:  \n",
    "    you can **copy and paste** the RAW ipython notebook (which is  a JSON file) onto a new file on your own machine (name the file FILENAME.ipynb)    \n",
    "    or you can use the **wget** command on the terminal: typing \n",
    "```\n",
    "wget PATH\n",
    "```\n",
    "will save a version of the notebook in the directory where you were when you typed the command. **wget**, which stands for web get, downloads any files, or even entire directories, from a web URL.\n"
   ]
  },
  {
   "cell_type": "markdown",
   "metadata": {},
   "source": [
    "## steps to create and manage a git repo with github\n",
    "\n",
    "https://github.com/fedhere/PUI2018_fb55/blob/master/Lab1_fb55/githubCreateRepoCmds.md"
   ]
  },
  {
   "cell_type": "markdown",
   "metadata": {},
   "source": [
    "## Remove Sensitive data from github repos permenantly\n",
    "https://help.github.com/articles/removing-sensitive-data-from-a-repository/"
   ]
  },
  {
   "cell_type": "code",
   "execution_count": null,
   "metadata": {},
   "outputs": [],
   "source": [
    "cd YOUR-REPOSITORY\n",
    "\n",
    "git filter-branch --force --index-filter \\\n",
    "'git rm --cached --ignore-unmatch PATH-TO-YOUR-FILE-WITH-SENSITIVE-DATA' \\\n",
    "--prune-empty --tag-name-filter cat -- --all\n",
    "\n",
    "git push origin --force --all\n",
    "\n",
    "git push origin --force --tags"
   ]
  },
  {
   "cell_type": "markdown",
   "metadata": {},
   "source": [
    "## Useful packages"
   ]
  },
  {
   "cell_type": "code",
   "execution_count": 29,
   "metadata": {},
   "outputs": [
    {
     "name": "stdout",
     "output_type": "stream",
     "text": [
      "Populating the interactive namespace from numpy and matplotlib\n"
     ]
    }
   ],
   "source": [
    "__author__ = 'Linda Jaber, CUSP NYU 2018'\n",
    "from __future__ import print_function\n",
    "\n",
    "import sys\n",
    "import os\n",
    "import scipy.stats\n",
    "\n",
    "\n",
    "try:\n",
    "    import urllib2 as urllib\n",
    "except ImportError:\n",
    "    import urllib.request as urllib\n",
    "    \n",
    "    \n",
    "import pandas as pd\n",
    "\n",
    "\n",
    "import matplotlib.pyplot as plt\n",
    "import pylab as pl\n",
    "%pylab inline\n",
    "\n",
    "\n",
    "import requests\n",
    "import json\n",
    "import io\n",
    "\n",
    "import geopandas as gpd\n",
    "import shapely\n",
    "from fiona.crs import from_epsg\n",
    "import pysal as ps\n",
    "\n",
    "import scipy as sp\n",
    "from scipy import stats\n",
    "\n",
    "pylab.rcParams['figure.figsize'] = 12, 8\n",
    "pylab.rcParams['figure.dpi'] = 100\n",
    "\n",
    "DEVELOPING = False\n",
    "#if DEVELOPING:\n",
    "    #cb2015 = cb201501[::1000]\n",
    "#else:\n",
    "    #cb2015 = pd.concat([cb201501, cb201506])\n",
    "\n",
    "from getCitiBikeCSV import getCitiBikeCSV # must have this function locally or in path\n",
    "from get_jsonparsed_data import get_jsonparsed_data # must have this function locally or in path\n"
   ]
  },
  {
   "cell_type": "code",
   "execution_count": null,
   "metadata": {},
   "outputs": [],
   "source": [
    "plt.rcParams"
   ]
  },
  {
   "cell_type": "markdown",
   "metadata": {},
   "source": [
    "## show an image inside a notebook"
   ]
  },
  {
   "cell_type": "code",
   "execution_count": null,
   "metadata": {},
   "outputs": [],
   "source": [
    "from IPython.display import Image\n",
    "Image(filename='../plotsforclasses/NYCReentryprogram_title.png')"
   ]
  },
  {
   "cell_type": "markdown",
   "metadata": {},
   "source": [
    "## Setting environment variable PUIDATA"
   ]
  },
  {
   "cell_type": "code",
   "execution_count": 22,
   "metadata": {},
   "outputs": [
    {
     "name": "stdout",
     "output_type": "stream",
     "text": [
      "puidata:  /nfshome/lj1232/PUIdata\n"
     ]
    }
   ],
   "source": [
    "puidata = os.getenv('PUIDATA')\n",
    "if puidata is None:\n",
    "    os.environ['PUIDATA']='%s/PUIdata'%os.getenv('HOME')\n",
    "    puidata = os.getenv('PUIDATA')\n",
    "print('puidata: ', puidata) "
   ]
  },
  {
   "cell_type": "markdown",
   "metadata": {},
   "source": [
    "## Downloading zipped data and uppacking it into PUIdata"
   ]
  },
  {
   "cell_type": "code",
   "execution_count": null,
   "metadata": {},
   "outputs": [],
   "source": [
    "# downloading a zipped file\n",
    "!curl -O <LINK>\n",
    "# unpacking into $PUIDATA\n",
    "!unzip <FILENAME.zip> -d $PUIDATA\n",
    "\n",
    "# if it is not a zip file download using curl and then move\n",
    "!curl <LINK> > <FILENAME>\n",
    "!mv <FILENAME> $PUIDATA\n",
    "\n",
    "# list files in PUIdata\n",
    "!ls $PUIDATA"
   ]
  },
  {
   "cell_type": "markdown",
   "metadata": {},
   "source": [
    "## CSV"
   ]
  },
  {
   "cell_type": "code",
   "execution_count": null,
   "metadata": {},
   "outputs": [],
   "source": [
    "# read from a file in PUIdata\n",
    "df = pd.read_csv(puidata + 'FILENAME')\n",
    "\n",
    "OR\n",
    "\n",
    "url = 'PATH'\n",
    "\n",
    "#reading in directly from a url (raw data link if on github)\n",
    "pd.read_csv(url)\n",
    "\n",
    "# use API and to read a json file in pandas\n",
    "df = pd.read_json(url)"
   ]
  },
  {
   "cell_type": "markdown",
   "metadata": {},
   "source": [
    "## Important pandas methods"
   ]
  },
  {
   "cell_type": "code",
   "execution_count": null,
   "metadata": {},
   "outputs": [],
   "source": [
    "df.head()\n",
    "df.tail()\n",
    "df.columns()\n",
    "#count how many rows, those are the data points\n",
    "df.size()\n",
    "\n",
    "#select 2 columns only\n",
    "df_2 = df[['col1', 'col2']]\n",
    "\n",
    "# rename\n",
    "df.rename(columns = {'date_of_census':'Date of Census', \n",
    "               'total_children_in_shelter':'Total Children in Shelter', \n",
    "               'adult_families_in_shelter': 'Adult Families in Shelter'}, inplace=True)\n",
    "OR\n",
    "df.columns([<LIST OF ALL COLUMNS NAMES>])\n",
    "\n",
    "# change into a datetime format\n",
    "pd.to_datetime(df_3c['Date of Census'])\n",
    "\n"
   ]
  },
  {
   "cell_type": "markdown",
   "metadata": {},
   "source": [
    "## Json"
   ]
  },
  {
   "cell_type": "code",
   "execution_count": null,
   "metadata": {},
   "outputs": [],
   "source": [
    "# API retreive data as json\n",
    "url = 'https://data.cityofnewyork.us/resource/wece-v9d7.json'\n",
    "response = urllib.urlopen(url)\n",
    "data = response.read().decode('utf-8')\n",
    "data = json.loads(data)\n",
    "\n",
    "url = 'https://api.census.gov/data/2016/acs/acs1/variables.json'\n",
    "response = requests.request('GET', url)\n",
    "aff1y = json.loads(response.text)\n",
    "\n",
    "# use API and to read a json file in pandas as a dataframe\n",
    "df = pd.read_json(url)\n",
    "\n",
    "# local  file\n",
    "with open('VM.json') as f:\n",
    "    data = json.load(f)\n",
    "data.keys()\n",
    "\n",
    "s = json.load(open(puidata + \"/FILENAME\") )"
   ]
  },
  {
   "cell_type": "markdown",
   "metadata": {},
   "source": [
    "## Plotting"
   ]
  },
  {
   "cell_type": "markdown",
   "metadata": {},
   "source": [
    "every plot needs a caption that explains to the reader   \n",
    "1) WHAT what the reader is loooking at   \n",
    "2) WHY why the reader is looking at it here in the analysis   \n",
    "3) TAKE HOME what is the take home point for the plot in the analysis "
   ]
  },
  {
   "cell_type": "code",
   "execution_count": null,
   "metadata": {},
   "outputs": [],
   "source": [
    "pl.figure(figsize=(8,8))\n",
    "for i in range(50):\n",
    "    pl.plot(ReprRandAll[i,0], ReprRandAll[i,1], '.', alpha=0.3)\n",
    "    pl.xlabel(\"x value\", fontsize=20)\n",
    "    pl.ylabel(\"y value\", fontsize=20)\n",
    "    pl.axes().set_aspect(\"equal\")\n",
    "    \n",
    "# if the axis legend is not set all\n",
    "ax.set_xlabel('')\n",
    "\n",
    "pl.legend()\n",
    "ax.xaxis.set_ticklabels(['Mon', 'Tue', 'Wed', 'Thu', 'Fri', 'Sat', 'Sun'])\n",
    "\n"
   ]
  },
  {
   "cell_type": "markdown",
   "metadata": {},
   "source": [
    "## Statistics"
   ]
  },
  {
   "cell_type": "markdown",
   "metadata": {},
   "source": [
    "### Z test:\n",
    "tests a difference between means. \n",
    "\n",
    "\n",
    "$Z = \\frac{|M - \\mu|}{\\frac{\\sigma}{\\sqrt(N)}}$"
   ]
  },
  {
   "cell_type": "code",
   "execution_count": null,
   "metadata": {},
   "outputs": [],
   "source": [
    "z = np.abs(oldMean - newMean) / (oldStd / np.sqrt(N))\n",
    "print (\"Z statistics\\nZ = {0:.2f}\".format(z))"
   ]
  },
  {
   "cell_type": "markdown",
   "metadata": {},
   "source": [
    "This is in units of standard deviations (sort of)! \n",
    "    - 0.05 is 2 standard deviations\n",
    "    - 2.56 > 2 so I am farther than 2 standard deviations from the mean. \n",
    "(in reality for a 2-tailed test the threshold for 0.05 significance is 1.96, not 2)\n",
    "    \n",
    "** We reject the null hypothesis, p-value *p* < 0.05 **    "
   ]
  },
  {
   "cell_type": "code",
   "execution_count": null,
   "metadata": {},
   "outputs": [],
   "source": []
  },
  {
   "cell_type": "markdown",
   "metadata": {},
   "source": [
    "## t-test\n",
    "\n",
    "for one sample and an assumption of the poulation\n",
    "\n",
    "$t = \\frac{\\mu - M}{\\frac{\\sigma}{\\sqrt(N)}}$\n",
    "\n",
    "for two samples (unpaired test)\n",
    "\n",
    "t = $\\frac{M_1 - M_2} {\\sqrt {s^2 ({ \\frac{1} {n_0} + \\frac{1} {n_1}})} }$"
   ]
  },
  {
   "cell_type": "markdown",
   "metadata": {},
   "source": [
    "### Hypothesis Test: Difference Between Proportions:\n",
    "## Z-test\n",
    "We want to conduct a hypothesis test to determine if there is a significant difference between the two proportions. First we will conduct a one-tailed **two-proportion z-test**. We will use a binommial distribution since it is a yes/no test.<br>\n",
    "Reference: https://stattrek.com/hypothesis-test/difference-in-proportions.aspx?Tutorial=AP\n",
    "\n",
    "pooled sample proportion:   p = $\\frac{p_0 n_0  + p_1 n1}{n_0 + n_1}$\n",
    "\n",
    "sdanrdard error:  SE = $\\sqrt{ \\frac{ p(1 - p)} {n_0} + \\frac{ p(1 - p)} {n_1} }$ \n",
    "\n",
    "z-statistic:  z = $\\frac{p_1 - p_0} {SE}$"
   ]
  },
  {
   "cell_type": "markdown",
   "metadata": {},
   "source": [
    "### Null Hypothesis:\n",
    "The proportion of prisoners convicted of a felony after being released is the same or larger for individuals who participated in the CEO program compared to those in the control group at **significance level** $\\alpha$ = 0.05\n",
    "\n",
    "**Control Group:** $P_0$ = 11.7% <br>\n",
    "**Program Group:** $P_1$ = 10.0%\n",
    "\n",
    "$H_0: P_0 - P_1 \\geq$ 0  \n",
    "$H_a: P_o - P_1$ < 0 <br>\n",
    "$\\alpha$ = .05"
   ]
  },
  {
   "cell_type": "code",
   "execution_count": null,
   "metadata": {},
   "outputs": [],
   "source": [
    "# set lambda functions for p, SE and z\n",
    "p = lambda p0, p1, n0, n1: (p0 * n0 + p1 *n1) / (n0 + n1)\n",
    "SE = lambda p, n0, n1: np.sqrt(p * (1-p) * (1 / n0 + 1.0 / n1))\n",
    "z = lambda p0, p1, SE : (p0 -p1) / SE\n",
    "\n",
    "# set new sample proportions\n",
    "# note all the other values are still the same\n",
    "\n",
    "p0 = 11.7 * 0.01\n",
    "p1 = 10.0 * 0.01\n",
    "\n",
    "if p0 - p1 <= 0:\n",
    "    print ('The Null holds.')\n",
    "else:\n",
    "    print ('We must assess the statistical significance.')"
   ]
  },
  {
   "cell_type": "code",
   "execution_count": null,
   "metadata": {},
   "outputs": [],
   "source": [
    "# calculate the z-score\n",
    "z1 = z(p0, p1, SE(p(p0, p1, n0, n1), n0, n1))\n",
    "print ('z-statistic = {0:.2f}'.format(z1))"
   ]
  },
  {
   "cell_type": "markdown",
   "metadata": {},
   "source": [
    "**table**"
   ]
  },
  {
   "cell_type": "code",
   "execution_count": null,
   "metadata": {},
   "outputs": [],
   "source": [
    "Image('http://intersci.ss.uci.edu/wiki/images/3/3a/Normal01.jpg')"
   ]
  },
  {
   "cell_type": "code",
   "execution_count": null,
   "metadata": {},
   "outputs": [],
   "source": [
    "# use the z-table to calculate the p-value\n",
    "P = 0.8023\n",
    "p_value = 1- 0.8023\n",
    "\n",
    "#interpret the results\n",
    "print ('p_value = %.2f'%p_value)\n",
    "def result(a,p):\n",
    "    print ('Is the p-value = {0:.2f} less than the critical value = {1:.2f}?'\\\n",
    "           .format(p,a))\n",
    "    if p < a:\n",
    "        print ('YES!')\n",
    "    else: \n",
    "        print ('NO!')\n",
    "    print ('Then the Null hypothesis {}'\\\n",
    "           .format('is rejected' if p < a else 'holds.'))\n",
    "    \n",
    "result(alpha, p_value)"
   ]
  },
  {
   "cell_type": "markdown",
   "metadata": {},
   "source": [
    "## chi squares tes\n",
    "After that we will conduct a **Chi Squared test**, and use the $\\chi^2$ distribution. A chi square ($\\chi^2$) satistic is used to investigate whether ditributions of categorical variables differ from one another. We calculate the $\\chi^2$ statistic and compare it to the chi square distribution and see how far in the tail it is. <br>\n",
    "The chi square statistic compares the counts (actual numbers and not percentages, proportions or means, etc.) of categorical responses between two or more independent groups. <br>\n",
    "Reference: http://math.hws.edu/javamath/ryan/ChiSquare.html\n",
    "\n",
    "chi squared sattistic: $\\chi^2$ = $\\sum_{i = 1 j =1}^{rc} \\frac{(O_{ij} - E_{ij})^2} {E_{ij}} $\n",
    "\n",
    "expected value: $E_{ij} = \\frac {ith\\ row\\ total\\  jth\\ row\\ total} {grand total}$\n",
    "\n",
    "degrees of freedom: df = (r-1)(c-1)\n",
    "\n",
    "where **E** is expected, **O** is observed, **r** is row, **c** is column, **ij** is the row and column number of a cell."
   ]
  },
  {
   "cell_type": "markdown",
   "metadata": {},
   "source": [
    "### Chi Square test\n",
    "### Null Hypothesis:\n",
    "$H_0$: felony conviction and participation in a CEO  program are independent <br>\n",
    "$H_a$: felony conviction and participation in a CEO  program are not independent <br>\n",
    "$\\alpha$ = .05\n",
    "#### Construct a Contingency Table"
   ]
  },
  {
   "cell_type": "markdown",
   "metadata": {},
   "source": [
    "| Convicted of a felony |    YES         |   NO           |    Total       |\n",
    "|-----------------------|:---------------|:---------------|:---------------|\n",
    "| Control Group         |   0.117 * 409  |   0.883 * 409  |     409        |     \n",
    "| program Gorup         |   0.1 * 568    |   0.9 * 568    |     568        |\n",
    "|                       |\n",
    "| Total                 |  104.653       |  872.347       |     977        |"
   ]
  },
  {
   "cell_type": "markdown",
   "metadata": {},
   "source": [
    "**Manually**"
   ]
  },
  {
   "cell_type": "code",
   "execution_count": null,
   "metadata": {},
   "outputs": [],
   "source": [
    "# observed values\n",
    "observed = np.array([[ 0.117 * 409, 0.883 * 409 ], [ 0.1 * 568, 0.9 * 568 ] ])\n",
    "\n",
    "def chisq(o):\n",
    "    if not (len(o.shape) == 2 and o.shape == (2,2)):\n",
    "        print (\"must pass a 2D array\")\n",
    "        return -1\n",
    "    E = np.empty_like(o)\n",
    "    for j in range(len(o[0])):\n",
    "        for i in range(2):\n",
    "            \n",
    "            E[i][j] = ((o[i,:].sum() * o[:,j].sum()) / \n",
    "                        (o).sum())\n",
    "    return ((o - E)**2 / E).sum()\n",
    "\n",
    "print ('Chi Square Statistic = {}'.format(chisq(observed)))\n",
    "\n",
    "# degrees of freedom ((r-1)(c-1))\n",
    "df = (len(observed) - 1) * (len(observed[0,:]) - 1)   \n",
    "\n",
    "print ('Degrees of Freedom = {}'.format(df))"
   ]
  },
  {
   "cell_type": "markdown",
   "metadata": {},
   "source": [
    "**TABLE**"
   ]
  },
  {
   "cell_type": "code",
   "execution_count": null,
   "metadata": {},
   "outputs": [],
   "source": [
    "Image(\"http://passel.unl.edu/Image/Namuth-CovertDeana956176274/chi-sqaure%20distribution%20table.PNG\")"
   ]
  },
  {
   "cell_type": "markdown",
   "metadata": {},
   "source": [
    "** using scipy **"
   ]
  },
  {
   "cell_type": "code",
   "execution_count": null,
   "metadata": {},
   "outputs": [],
   "source": [
    "# Another way to do calculate it:\n",
    "# using the scipy.stats.chi2_contingency the chi square statistic, the p-value, \n",
    "# the degrees of freedom and the expected values\n",
    "\n",
    "chi2, p, dof, expected = scipy.stats.chi2_contingency(observed)\n",
    "\n",
    "print('Chi Square Statistic: {}\\np-value: {}\\nDegrees of Freedom: {}\\n'.format( chi2, p, dof ) )\n",
    "print( 'observed = {}\\nexpected = {}'.format(observed, expected) )"
   ]
  },
  {
   "cell_type": "markdown",
   "metadata": {},
   "source": [
    "**CONCLUSION**"
   ]
  },
  {
   "cell_type": "code",
   "execution_count": null,
   "metadata": {},
   "outputs": [],
   "source": [
    "chisq =  0.718\n",
    "dof = 1\n",
    "\n",
    "# at an alph level 0.05 and with one degrees of freedom,\n",
    "# the crtical value we get from the table is 3.84\n",
    "critical_value = 3.84\n",
    "\n",
    "def result(x, c):\n",
    "    print ('Is the chi square statistic = ' + \n",
    "           '{0:.3f} bigger than the critical value = {1:.2f}?'.format(x,c))\n",
    "           \n",
    "    if x > c:\n",
    "        print ('YES!')\n",
    "    else:\n",
    "        print ('NO!')\n",
    "    \n",
    "    print ('Then the Null hypothesis {}'.format(\n",
    "        'is rejected.' if x > c  else 'holds.') )\n",
    "\n",
    "    \n",
    "result(chisq, critical_value)"
   ]
  },
  {
   "cell_type": "code",
   "execution_count": null,
   "metadata": {},
   "outputs": [],
   "source": []
  },
  {
   "cell_type": "code",
   "execution_count": null,
   "metadata": {},
   "outputs": [],
   "source": []
  },
  {
   "cell_type": "code",
   "execution_count": null,
   "metadata": {},
   "outputs": [],
   "source": []
  },
  {
   "cell_type": "code",
   "execution_count": null,
   "metadata": {},
   "outputs": [],
   "source": []
  },
  {
   "cell_type": "markdown",
   "metadata": {},
   "source": [
    "IDEA:\n",
    "Women are less likely than men to choose biking _for commuting_\n",
    "\n",
    "NULL HYPOTHESIS:\n",
    "The proportion of men biking on weekends is _the same_ or _higher_  than the proportion of women biking on weekends  \n",
    "\n",
    "_$H_0$_ : $\\frac{W_{\\mathrm{weekend}}}{W_{\\mathrm{total}}} <= \\frac{M_{\\mathrm{weekend}}}{M_{\\mathrm{total}}}$  \n",
    "\n",
    "_$H_1$_ : $\\frac{W_{\\mathrm{weekend}}}{W_{\\mathrm{total}}} > \\frac{M_{\\mathrm{total}}}{M_{\\mathrm{total}}}$  \n",
    "\n",
    "or identically:  \n",
    "\n",
    "_$H_0$_ : $\\frac{W_{\\mathrm{weekend}}}{W_{\\mathrm{total}}} - \\frac{M_{\\mathrm{weekend}}}{M_{\\mathrm{total}}} <= 0 $   \n",
    "\n",
    "_$H_1$_ : $\\frac{W_{\\mathrm{weekend}}}{W_{\\mathrm{total}}} - \\frac{M_{\\mathrm{weekend}}}{M_{\\mathrm{total}}} > 0$  \n",
    "I will use a significance level  $\\alpha=0.05$  \n",
    "\n",
    "which means i want the probability of getting a result at least as significant as mine to be less then 5%"
   ]
  }
 ],
 "metadata": {
  "kernelspec": {
   "display_name": "PUI2016_Python3",
   "language": "python",
   "name": "pui2016_python3"
  },
  "language_info": {
   "codemirror_mode": {
    "name": "ipython",
    "version": 3
   },
   "file_extension": ".py",
   "mimetype": "text/x-python",
   "name": "python",
   "nbconvert_exporter": "python",
   "pygments_lexer": "ipython3",
   "version": "3.5.4"
  }
 },
 "nbformat": 4,
 "nbformat_minor": 2
}
